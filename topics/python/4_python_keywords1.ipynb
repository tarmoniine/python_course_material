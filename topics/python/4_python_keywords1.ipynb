{
 "metadata": {
  "name": "",
  "signature": "sha256:90e0cf80a9f1cb1b76a703886c44a06760feba12f87d0037c95be31bac0b21b0"
 },
 "nbformat": 3,
 "nbformat_minor": 0,
 "worksheets": [
  {
   "cells": [
    {
     "cell_type": "markdown",
     "metadata": {},
     "source": [
      "# Python keywords\n",
      "\n",
      "There are a limited number of keywords that form the Python language:"
     ]
    },
    {
     "cell_type": "code",
     "collapsed": false,
     "input": [
      "import keyword\n",
      "print(keyword.kwlist)"
     ],
     "language": "python",
     "metadata": {},
     "outputs": [
      {
       "output_type": "stream",
       "stream": "stdout",
       "text": [
        "['False', 'None', 'True', 'and', 'as', 'assert', 'break', 'class', 'continue', 'def', 'del', 'elif', 'else', 'except', 'finally', 'for', 'from', 'global', 'if', 'import', 'in', 'is', 'lambda', 'nonlocal', 'not', 'or', 'pass', 'raise', 'return', 'try', 'while', 'with', 'yield']\n"
       ]
      }
     ],
     "prompt_number": 1
    },
    {
     "cell_type": "markdown",
     "metadata": {},
     "source": [
      "Note that variable names cannot be one of these keywords. \n",
      "\n",
      "In addition, variables cannot be one of the `__builtin__` objects (classes or functions) listed below (although some of these are [IPython] specific and are allowed outside of [IPython])."
     ]
    },
    {
     "cell_type": "code",
     "collapsed": false,
     "input": [
      "print(dir(__builtin__))"
     ],
     "language": "python",
     "metadata": {},
     "outputs": [
      {
       "output_type": "stream",
       "stream": "stdout",
       "text": [
        "['ArithmeticError', 'AssertionError', 'AttributeError', 'BaseException', 'BlockingIOError', 'BrokenPipeError', 'BufferError', 'BytesWarning', 'ChildProcessError', 'ConnectionAbortedError', 'ConnectionError', 'ConnectionRefusedError', 'ConnectionResetError', 'DeprecationWarning', 'EOFError', 'Ellipsis', 'EnvironmentError', 'Exception', 'False', 'FileExistsError', 'FileNotFoundError', 'FloatingPointError', 'FutureWarning', 'GeneratorExit', 'IOError', 'ImportError', 'ImportWarning', 'IndentationError', 'IndexError', 'InterruptedError', 'IsADirectoryError', 'KeyError', 'KeyboardInterrupt', 'LookupError', 'MemoryError', 'NameError', 'None', 'NotADirectoryError', 'NotImplemented', 'NotImplementedError', 'OSError', 'OverflowError', 'PendingDeprecationWarning', 'PermissionError', 'ProcessLookupError', 'ReferenceError', 'ResourceWarning', 'RuntimeError', 'RuntimeWarning', 'StopIteration', 'SyntaxError', 'SyntaxWarning', 'SystemError', 'SystemExit', 'TabError', 'TimeoutError', 'True', 'TypeError', 'UnboundLocalError', 'UnicodeDecodeError', 'UnicodeEncodeError', 'UnicodeError', 'UnicodeTranslateError', 'UnicodeWarning', 'UserWarning', 'ValueError', 'Warning', 'ZeroDivisionError', '__IPYTHON__', '__IPYTHON__active', '__build_class__', '__debug__', '__doc__', '__import__', '__loader__', '__name__', '__package__', '__spec__', 'abs', 'all', 'any', 'ascii', 'bin', 'bool', 'bytearray', 'bytes', 'callable', 'chr', 'classmethod', 'compile', 'complex', 'copyright', 'credits', 'delattr', 'dict', 'dir', 'divmod', 'dreload', 'enumerate', 'eval', 'exec', 'filter', 'float', 'format', 'frozenset', 'get_ipython', 'getattr', 'globals', 'hasattr', 'hash', 'help', 'hex', 'id', 'input', 'int', 'isinstance', 'issubclass', 'iter', 'len', 'license', 'list', 'locals', 'map', 'max', 'memoryview', 'min', 'next', 'object', 'oct', 'open', 'ord', 'pow', 'print', 'property', 'range', 'repr', 'reversed', 'round', 'set', 'setattr', 'slice', 'sorted', 'staticmethod', 'str', 'sum', 'super', 'tuple', 'type', 'vars', 'zip']\n"
       ]
      }
     ],
     "prompt_number": 2
    },
    {
     "cell_type": "markdown",
     "metadata": {},
     "source": [
      "# Built in Python components\n",
      "\n",
      "In addition to both keywords and `__builtin__` objects, the Python standard library has very many built-in features and routines that make it a joy to program in.\n",
      "\n",
      "**Warning** It is best if you never assign a new variable to have the same name as that found in the Python standard library\n",
      "\n",
      "The following list includes both the hidden and standard library components from your computer. The code to generate this list is found below, however, I do not expect you to understand this code so view at your own risk ;)\n",
      "\n",
      "**Python standard library**\n",
      "\n",
      "```\n",
      "sndhdr textwrap cmd mimetypes io pyclbr linecache termios sunau site mailcap \n",
      "re pdb sysconfig xmlrpc pstats crypt selectors asynchat fnmatch locale \n",
      "xdrlib importlib plistlib datetime types ftplib imp keyword queue gettext \n",
      "glob enum pty this shlex string os pickle traceback aifc imghdr http timeit \n",
      "resource parser getpass tabnanny codeop copyreg socket token xml cProfile \n",
      "asyncore functools sre_parse pipes fileinput nis threading distutils wsgiref \n",
      "tracemalloc colorsys antigravity ctypes bisect symtable platform struct \n",
      "warnings email gzip formatter readline dummy_threading bz2 uuid imaplib \n",
      "py_compile pkgutil urllib decimal asyncio fractions venv idlelib collections \n",
      "bdb csv sre_compile dis stringprep base64 json rlcompleter configparser \n",
      "codecs smtpd audioop mailbox turtle posixpath poplib sre_constants numbers \n",
      "mmap runpy cgi lib2to3 symbol statistics pprint inspect html macpath \n",
      "unittest operator compileall sitecustomize sqlite3 copy trace uu tempfile \n",
      "heapq quopri hashlib tkinter nntplib logging doctest shelve fpectl sched \n",
      "opcode macurl2path concurrent optparse shutil ntpath argparse lzma pathlib \n",
      "webbrowser contextlib hmac getopt netrc tty pydoc dbm subprocess weakref \n",
      "encodings calendar modulefinder xxlimited test nturl2path socketserver stat \n",
      "pydoc_data telnetlib tarfile cmath smtplib curses chunk pickletools zipfile \n",
      "multiprocessing random wave genericpath code binhex filecmp ast difflib ssl \n",
      "ipaddress tokenize abc reprlib cgitb profile ossaudiodev\n",
      "```\n",
      "\n",
      "**Python hidden standard library**\n",
      "\n",
      "```\n",
      "_markupbase _testcapi _compat_pickle _json _testimportmultiple _curses \n",
      "_codecs_cn _weakrefset _strptime __phello__ _osx_support _sysconfigdata \n",
      "_ctypes _dbm _bz2 _codecs_tw _collections_abc _multibytecodec \n",
      "_multiprocessing _crypt _testbuffer _hashlib _codecs_jp _threading_local \n",
      "_ssl _pyio _codecs_kr _opcode _codecs_hk _sitebuiltins _decimal _bootlocale \n",
      "_lzma _sqlite3 _dummy_thread _codecs_iso2022 _lsprof __future__ _ctypes_test \n",
      "_curses_panel _csv _gdbm\n",
      "```"
     ]
    },
    {
     "cell_type": "code",
     "collapsed": false,
     "input": [
      "import os\n",
      "import imp\n",
      "import sys\n",
      "import pprint\n",
      "import distutils.sysconfig\n",
      "\n",
      "std_lib = distutils.sysconfig.get_python_lib(standard_lib=True)\n",
      "\n",
      "std_set = set()\n",
      "hidden_set = set()\n",
      "for top, dirs, files in os.walk(std_lib):\n",
      "    for fn in files:\n",
      "        \n",
      "        # Remove the std_lib path from the path\n",
      "        prefix = top.replace(std_lib, '').replace(os.path.sep, '')\n",
      "        \n",
      "        if prefix.count('site-packages') > 0:\n",
      "            continue\n",
      "        if fn == '__init__.py':\n",
      "            item = top[len(std_lib) + 1:]\n",
      "        elif fn[-3:] == '.py':\n",
      "            item = os.path.join(prefix, fn)[:-3]\n",
      "        elif fn[-3:] == '.so' and top[-11:] == 'lib-dynload':\n",
      "            item = fn[0:-3]\n",
      "            \n",
      "        # Only consider top level imports\n",
      "        item = item.split(os.path.sep)[0]\n",
      "        if item.count('.') > 0:\n",
      "            item = item.split('.')[0]\n",
      "        \n",
      "        # Only add items that you can actually import\n",
      "        try:\n",
      "            imp.find_module(item)\n",
      "        except ImportError as e:\n",
      "            continue\n",
      "        \n",
      "        if item.startswith('_'):\n",
      "            hidden_set.add(item)\n",
      "        else:\n",
      "            std_set.add(item)\n",
      "          \n",
      "def format_set(raw_set):\n",
      "    return pprint.pformat(' '.join(list(raw_set))).replace(\"'\", '')\n",
      "            \n",
      "print('**Python standard library**\\n\\n```\\n{}\\n```'.format(format_set(std_set)))\n",
      "print('\\n**Python hidden standard library**\\n\\n```\\n{}\\n```'.format(format_set(hidden_set)))"
     ],
     "language": "python",
     "metadata": {},
     "outputs": []
    }
   ],
   "metadata": {}
  }
 ]
}