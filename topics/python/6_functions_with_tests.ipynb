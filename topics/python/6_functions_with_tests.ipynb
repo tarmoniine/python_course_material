{
 "metadata": {
  "name": "",
  "signature": "sha256:d24c0c058a7a15f1753b61689489114b492c3a0d1463ff8a023b6f4dc465973e"
 },
 "nbformat": 3,
 "nbformat_minor": 0,
 "worksheets": [
  {
   "cells": [
    {
     "cell_type": "code",
     "collapsed": false,
     "input": [
      "# These are the objects our code uses.\n",
      "# This cell must be executed first, before the others.\n",
      "from Bio import SeqIO\n",
      "from Bio.Alphabet import IUPAC, Alphabet\n",
      "from Bio.Data import IUPACData\n",
      "from Bio.Seq import Seq\n",
      "\n",
      "import random"
     ],
     "language": "python",
     "metadata": {},
     "outputs": [],
     "prompt_number": 1
    },
    {
     "cell_type": "code",
     "collapsed": false,
     "input": [
      "IUPAC.ambiguous_rna.letters\n",
      "IUPACData.ambiguous_rna_values\n",
      "IUPAC.unambiguous_dna.letters"
     ],
     "language": "python",
     "metadata": {},
     "outputs": [
      {
       "metadata": {},
       "output_type": "pyout",
       "prompt_number": 2,
       "text": [
        "'GATC'"
       ]
      }
     ],
     "prompt_number": 2
    },
    {
     "cell_type": "code",
     "collapsed": false,
     "input": [
      "my_seq = Seq('AAAAGG', IUPAC.unambiguous_dna)\n",
      "my_seq.translate()"
     ],
     "language": "python",
     "metadata": {},
     "outputs": [
      {
       "metadata": {},
       "output_type": "pyout",
       "prompt_number": 3,
       "text": [
        "Seq('KR', IUPACProtein())"
       ]
      }
     ],
     "prompt_number": 3
    },
    {
     "cell_type": "code",
     "collapsed": false,
     "input": [
      "IUPAC.ambiguous_rna.letters\n",
      "IUPACData.unambiguous_rna_weights"
     ],
     "language": "python",
     "metadata": {},
     "outputs": [
      {
       "metadata": {},
       "output_type": "pyout",
       "prompt_number": 4,
       "text": [
        "{'G': 379.0, 'A': 363.0, 'C': 339.0, 'U': 340.0}"
       ]
      }
     ],
     "prompt_number": 4
    },
    {
     "cell_type": "code",
     "collapsed": false,
     "input": [
      "# Note that this function needed to be changed \n",
      "# to accomodate the creation of proper Seq objects \n",
      "# in the functions below.  It now returns a proper \n",
      "# Alphabet object from Biopython and our code needs \n",
      "# to use .letters explicitly\n",
      "\n",
      "def select_alphabet(alphabet):\n",
      "    ''' Returns a default alphabet.\n",
      "    '''\n",
      "    a = alphabet\n",
      "    \n",
      "    if a is None:\n",
      "        a = IUPAC.unambiguous_dna\n",
      "        \n",
      "    if not hasattr(a, 'letters'):\n",
      "        a = Alphabet()\n",
      "        a.letters = alphabet      \n",
      "            \n",
      "    return a\n",
      "        \n",
      "def validate_sequence(sequence, alphabet=None, method='A'):\n",
      "    \"\"\"Return True if the string sequence contains \n",
      "    only letters from the supplied alphabet, otherwise False. \n",
      "    Default alphabet is IUPAC.unambiguous_dna\"\"\"\n",
      "    alphabet = select_alphabet(alphabet)\n",
      "       \n",
      "    if method == 'A':\n",
      "        for i in sequence:\n",
      "            if i not in alphabet.letters:\n",
      "                return False\n",
      "        return True\n",
      "    \n",
      "    elif method == 'B':\n",
      "        return set(sequence.upper()) - set(alphabet.letters.upper()) == set()\n",
      "\n",
      "def test_validate_sequence():\n",
      "    vs = validate_sequence\n",
      "    for method in ['A', 'B']:\n",
      "        assert vs('AAA', 'ATG', method)\n",
      "        assert vs('AAA', 'T', method) == False\n",
      "        assert vs('ATCG', IUPAC.unambiguous_dna.letters, method)\n",
      "        assert vs('AT', 'A', method) == False\n",
      "        assert vs('', 'A')\n",
      "    print('Test OK.')\n",
      "        \n",
      "test_validate_sequence()"
     ],
     "language": "python",
     "metadata": {},
     "outputs": [
      {
       "output_type": "stream",
       "stream": "stdout",
       "text": [
        "Test OK.\n"
       ]
      }
     ],
     "prompt_number": 5
    },
    {
     "cell_type": "code",
     "collapsed": false,
     "input": [
      "import random\n",
      "def random_base(alphabet=None, method='A'):\n",
      "    \"\"\"Returns a random base from the supplied alphabet. \n",
      "    Default alphabet is IUPAC.unambiguous_dna\"\"\"\n",
      "    alphabet = select_alphabet(alphabet)\n",
      "    \n",
      "    if method == 'A':\n",
      "        # This method is better because it returns a proper \n",
      "        # Biopython sequence object. \n",
      "        return Seq(random.choice(alphabet.letters), alphabet)\n",
      "    \n",
      "    if method == 'B':\n",
      "        return random.choice(alphabet.letters)\n",
      "    \n",
      "def test_random_base():\n",
      "    for i in range(6000):\n",
      "        for method in ['A', 'B']:\n",
      "            rb = random_base(IUPAC.unambiguous_rna)\n",
      "            assert validate_sequence(rb, IUPAC.unambiguous_rna)\n",
      "    print('Test OK.')\n",
      "test_random_base()"
     ],
     "language": "python",
     "metadata": {},
     "outputs": [
      {
       "output_type": "stream",
       "stream": "stdout",
       "text": [
        "Test OK.\n"
       ]
      }
     ],
     "prompt_number": 6
    },
    {
     "cell_type": "code",
     "collapsed": false,
     "input": [
      "def random_codon(alphabet=None, method='A'):\n",
      "    \"\"\"Returns a random codon from the supplied alphabet. \n",
      "    Default alphabet is IUPAC.unambiguous_dna\"\"\"\n",
      "    \n",
      "    if method == 'A':\n",
      "        return random_base(alphabet) + \\\n",
      "               random_base(alphabet) + \\\n",
      "               random_base(alphabet)\n",
      "    \n",
      "    if method == 'B':\n",
      "        return ''.join([random_base(alphabet, method) for x in range(3)])\n",
      "    \n",
      "def test_random_codon():\n",
      "    for i in range(6000):\n",
      "        for method in ['A', 'B']:\n",
      "            rc = random_codon(IUPAC.unambiguous_rna, method)\n",
      "            assert validate_sequence(rc, IUPAC.unambiguous_rna)\n",
      "            \n",
      "            if method == 'A':\n",
      "                assert type(rc) == type(Seq('A'))\n",
      "    print('Test OK.')\n",
      "    \n",
      "test_random_codon()"
     ],
     "language": "python",
     "metadata": {},
     "outputs": [
      {
       "output_type": "stream",
       "stream": "stdout",
       "text": [
        "Test OK.\n"
       ]
      }
     ],
     "prompt_number": 7
    },
    {
     "cell_type": "code",
     "collapsed": false,
     "input": [
      "def replace_base_randomly(sequence, alphabet=None, method='A'):\n",
      "    \"\"\"Returns sequence with one base randomly mutated \n",
      "    to one of the letters from the supplied alphabet. \n",
      "    Default alphabet is IUPAC.unambiguous_dna\"\"\"\n",
      "    alphabet = select_alphabet(alphabet)\n",
      "    \n",
      "    if len(sequence) == 0:\n",
      "        raise Exception (\"Error: No sequence detected!\", sequence)\n",
      "        \n",
      "    elif len(set(alphabet.letters.upper())) == 1 and \\\n",
      "         len(set(sequence.upper())) == 1:\n",
      "        raise Exception (\"Error: Mutation not possible!\", sequence, alphabet.letters)\n",
      "            \n",
      "    pos = random.randrange(0, len(sequence))\n",
      "    removed_base = sequence[pos]\n",
      "    \n",
      "    if method == 'A':\n",
      "        letters_subset = ''\n",
      "        for base in alphabet.letters:\n",
      "            if base != removed_base.upper() and base != removed_base.lower():\n",
      "                letters_subset += base\n",
      "                \n",
      "    elif method == 'B':\n",
      "        letters_subset = ''.join((b for b in alphabet.letters \n",
      "                                  if base != removed_base.upper() and \n",
      "                                     base != removed_base.lower()))\n",
      "    \n",
      "    if method in ['A', 'B']:\n",
      "        return sequence[:pos] + random.choice(letters_subset) + sequence[pos+1:]\n",
      "    \n",
      "    if method == 'C':\n",
      "        seq_list = [r_base if i == r_index else b for i, b in enumerate(sequence)]"
     ],
     "language": "python",
     "metadata": {},
     "outputs": [],
     "prompt_number": 8
    },
    {
     "cell_type": "code",
     "collapsed": false,
     "input": [
      "def replace_base_randomly(sequence, alphabet=None, method='A'):\n",
      "    \"\"\"Returns sequence with one base randomly mutated \n",
      "    to one of the letters from the supplied alphabet. \n",
      "    Default alphabet is IUPAC.unambiguous_dna\"\"\"\n",
      "    alphabet = select_alphabet(alphabet)\n",
      "    \n",
      "    if len(sequence) == 0:\n",
      "        raise Exception (\"Error: No sequence detected!\", sequence)\n",
      "        \n",
      "    elif len(set(alphabet.letters.upper())) == 1 and \\\n",
      "         len(set(sequence.upper())) == 1:\n",
      "        raise Exception (\"Error: Mutation not possible!\", sequence, alphabet.letters)\n",
      "            \n",
      "    pos = random.randrange(0, len(sequence))\n",
      "    removed_base = sequence[pos]\n",
      "    \n",
      "    if method == 'A':\n",
      "        letters_subset = ''\n",
      "        for base in alphabet.letters:\n",
      "            if base != removed_base.upper() and base != removed_base.lower():\n",
      "                letters_subset += base\n",
      "                \n",
      "    elif method == 'B':\n",
      "        letters_subset = ''.join((b for b in alphabet.letters \n",
      "                                  if b != removed_base.upper() and \n",
      "                                     b != removed_base.lower()))  \n",
      "    elif method == 'C':  \n",
      "        letters_subset = ''.join(alphabet.letters.split(removed_base))    \n",
      "        \n",
      "    return sequence[:pos] + random.choice(letters_subset) + sequence[pos+1:]\n",
      "\n",
      "def test_replace_base_randomly():\n",
      "    \n",
      "    for method in ['A', 'B', 'C']:\n",
      "        try:\n",
      "            replace_base_randomly(\"aAaAaAaA\", \"Aa\", method=method)\n",
      "        except Exception as e:\n",
      "            assert e.args == ('Error: Mutation not possible!',\n",
      "                              'aAaAaAaA', 'Aa')\n",
      "    \n",
      "        for i in range(6000):\n",
      "            random_sequence = random_codon('atcg') + \\\n",
      "                              random_codon('ATCG') + \\\n",
      "                              random_codon('atcg')\n",
      "            new_seq = replace_base_randomly(random_sequence, method=method)\n",
      "        \n",
      "            #print('Old: {}  New: {}'.format(random_sequence, new_seq))   \n",
      "            assert new_seq.upper() != random_sequence.upper()\n",
      "        \n",
      "            N_differences = 0\n",
      "            for index, base in enumerate(new_seq):\n",
      "                if base != random_sequence[index]:\n",
      "                    N_differences += 1\n",
      "            assert N_differences == 1, N_differences\n",
      "        \n",
      "    print('Test OK.')\n",
      "\n",
      "test_replace_base_randomly()"
     ],
     "language": "python",
     "metadata": {},
     "outputs": [
      {
       "output_type": "stream",
       "stream": "stdout",
       "text": [
        "Test OK.\n"
       ]
      }
     ],
     "prompt_number": 9
    },
    {
     "cell_type": "code",
     "collapsed": false,
     "input": [
      "def sequence_content_fraction(sequence, letters, alphabet=None, method='A'):\n",
      "    \"\"\"Return the percentage of characters in sequence that are \n",
      "    part of letters. Checks if both the sequence and letters are \n",
      "    part of the supplied alphabet. Default alphabet is IUPAC.unambiguous_dna\"\"\"\n",
      "    \n",
      "    if not validate_sequence(sequence, alphabet):\n",
      "        raise Exception('The sequence you supplied must only contain '\n",
      "                        'letters from the alphabet supplied.', alphabet)\n",
      "    \n",
      "    if not validate_sequence(letters, alphabet):\n",
      "        raise Exception('The letters you supplied must only contain '\n",
      "                        'characters from the alphabet supplied.', \n",
      "                        alphabet, letters)\n",
      "    if method == 'A':\n",
      "        n = 0\n",
      "        for letter in set(letters):\n",
      "            for char in sequence:\n",
      "                if letter == char:\n",
      "                    n += 1\n",
      "        return 100* n / float(len(sequence))\n",
      "\n",
      "    if method == 'B':\n",
      "        return_value = 0\n",
      "        for letter in set(letters):\n",
      "            return_value += 100*list(sequence).count(letter) / len(sequence)\n",
      "        return return_value\n",
      "    \n",
      "    if method == 'C':\n",
      "        from collections import Counter as CC\n",
      "        return 100 * sum(bc/len(sequence) for b, bc in CC(sequence).items() if b in letters)\n",
      "\n",
      "def test_sequence_content_fraction():\n",
      "    f_A = sequence_content_fraction('AAABBBCCC', 'BC', 'ABC', method='A')\n",
      "    f_B = sequence_content_fraction('AAABBBCCC', 'BC', 'ABC', method='B')\n",
      "    f_C = sequence_content_fraction('AAABBBCCC', 'BC', 'ABC', method='C')\n",
      "\n",
      "    # This is how you should check if two floats have the same \n",
      "    # (the values must be close, but not exactly the same)\n",
      "    assert abs(f_A - f_B) < 1e-12\n",
      "    assert abs(f_A - f_C) < 1e-12\n",
      "    print('Test OK.')\n",
      "    \n",
      "test_sequence_content_fraction()"
     ],
     "language": "python",
     "metadata": {},
     "outputs": [
      {
       "output_type": "stream",
       "stream": "stdout",
       "text": [
        "Test OK.\n"
       ]
      }
     ],
     "prompt_number": 10
    }
   ],
   "metadata": {}
  }
 ]
}