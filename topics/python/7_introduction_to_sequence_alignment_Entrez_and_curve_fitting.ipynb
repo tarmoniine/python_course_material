{
 "metadata": {
  "name": "",
  "signature": "sha256:0f0d184ba7d753cf7e5827ddd80d1a43270f6693a5e33bc4c923aa7fc3fe1e1e"
 },
 "nbformat": 3,
 "nbformat_minor": 0,
 "worksheets": [
  {
   "cells": [
    {
     "cell_type": "code",
     "collapsed": false,
     "input": [
      "from Bio import pairwise2"
     ],
     "language": "python",
     "metadata": {},
     "outputs": []
    },
    {
     "cell_type": "markdown",
     "metadata": {},
     "source": [
      "### Task:\n",
      "\n",
      "You have two sequences:\n",
      "seq1 = 'ACGTCCTTCATT'\n",
      "seq2 = 'GTCTCATG'\n",
      "\n",
      "You have a scoring scheme where\n",
      "* a match gives you +1\n",
      "* a mismatch gives you 0\n",
      "* gap opening costs \u221210\n",
      "\n",
      "Find the best alignment of the two sequences.\n",
      "\n",
      "You have a scoring scheme where:\n",
      "* a match gives you +1\n",
      "* a mismatch gives you \u22121\n",
      "* gap opening costs you \u22121\n",
      "\n",
      "Find the best alignment of the two sequences.\n",
      "\n",
      "HINT: look at the following documentation page \n",
      "for Biopython:\n",
      "http://biopython.org/DIST/docs/api/Bio.pairwise2-module.html"
     ]
    },
    {
     "cell_type": "code",
     "collapsed": false,
     "input": [
      "seq1 = 'ACGTCCTTCATT'\n",
      "seq2 =  'GTCTCATG'\n",
      "pairwise2.align.localms(seq1, seq2, 1, 0, -10, -10000000)"
     ],
     "language": "python",
     "metadata": {},
     "outputs": []
    },
    {
     "cell_type": "code",
     "collapsed": false,
     "input": [
      "pairwise2.align.localms(seq1, seq2, 1, -1, -1, -10000000)"
     ],
     "language": "python",
     "metadata": {},
     "outputs": []
    },
    {
     "cell_type": "markdown",
     "metadata": {},
     "source": [
      "### The format_alignment function\n",
      "\n",
      "pairwise2 has a format_alignment function to better visualize the alignment output. "
     ]
    },
    {
     "cell_type": "code",
     "collapsed": false,
     "input": [
      "out_tuplesA = pairwise2.align.localms(seq1, seq2, 1, 0, -10, -10000000)\n",
      "out_tuplesB = pairwise2.align.localms(seq1, seq2, 1, -1, -1, -10000000)\n",
      "\n",
      "print('1, 0, -10, -inf:')\n",
      "for ot in out_tuplesA:\n",
      "    print(pairwise2.format_alignment(*ot))\n",
      "    \n",
      "print('\\n1, -1, -1, -inf:')\n",
      "for ot in out_tuplesB:\n",
      "    print(pairwise2.format_alignment(*ot))"
     ],
     "language": "python",
     "metadata": {},
     "outputs": []
    },
    {
     "cell_type": "markdown",
     "metadata": {},
     "source": [
      "### Using the Entrez databases via Biopython\n",
      "\n",
      "You can access all of the information in the Entrez databases \n",
      "via Biopython, although a new Python package, Bioservices, is \n",
      "probably easier and provides access to MANY different online \n",
      "databases. https://pythonhosted.org/bioservices/"
     ]
    },
    {
     "cell_type": "code",
     "collapsed": false,
     "input": [
      "from Bio import Entrez\n",
      "Entrez.email = 'schryer@gmail.com'"
     ],
     "language": "python",
     "metadata": {},
     "outputs": []
    },
    {
     "cell_type": "code",
     "collapsed": false,
     "input": [
      "handle = Entrez.einfo()\n",
      "record = Entrez.read(handle)\n",
      "record['DbList']"
     ],
     "language": "python",
     "metadata": {},
     "outputs": []
    },
    {
     "cell_type": "code",
     "collapsed": false,
     "input": [
      "handle = Entrez.einfo(db='pubmed')\n",
      "record = Entrez.read(handle)\n",
      "record['DbInfo']['Description']"
     ],
     "language": "python",
     "metadata": {},
     "outputs": []
    },
    {
     "cell_type": "code",
     "collapsed": false,
     "input": [
      "handle = Entrez.esearch(db='pubmed', term='persister')\n",
      "record = Entrez.read(handle)\n",
      "record['IdList']"
     ],
     "language": "python",
     "metadata": {},
     "outputs": []
    },
    {
     "cell_type": "code",
     "collapsed": false,
     "input": [
      "handle = Entrez.efetch(db='pubmed', id='25267859')\n",
      "print(handle.read())"
     ],
     "language": "python",
     "metadata": {},
     "outputs": []
    },
    {
     "cell_type": "markdown",
     "metadata": {},
     "source": [
      "### Curve fitting\n",
      "\n",
      "One common task for biologists is to fit experimental data \n",
      "to a function. For example, one may want to fit a 4 parameter \n",
      "logistic equation to enzyme-linked immunosorbent assay (ELISA) \n",
      "data. The usual formula for this model is:\n",
      "\n",
      "$f(x) = \\frac{A - D}{1 + \\left(\\frac{x}{C}\\right)^B} + D$,\n",
      "\n",
      "where $x$ is the concentration, $A$ is the minimum asymptote, $B$ is the steepness, $C$ is the inflection point and $D$ is the maximum asymptote."
     ]
    },
    {
     "cell_type": "code",
     "collapsed": false,
     "input": [
      "%matplotlib inline\n",
      "import numpy as np\n",
      "import numpy.random\n",
      "import matplotlib.pyplot as plt\n",
      "from scipy.optimize import leastsq\n",
      "\n",
      "def logistic4(x, A, B, C, D):\n",
      "    '''Four parameter logistic equation.\n",
      "    \n",
      "    $f(x) = \\frac{A - D}{1 + \\left(\\frac{x}{C}\\right)^B} + D$\n",
      "    '''\n",
      "    return ((A-D)/(1.0+((x/C)**B))) + D\n",
      "\n",
      "def residuals(parameters, y, x):\n",
      "    '''Deviations of data from logistic4'''\n",
      "    A, B, C, D = parameters\n",
      "    err = y - logistic4(x, A, B, C, D)\n",
      "    return err\n",
      "\n",
      "# Make up some data for fitting and add noise\n",
      "# In practice, y_meas would be read in from a file\n",
      "x_measured = np.linspace(0, 20, 12)\n",
      "x_true = np.linspace(0, 20, 100)\n",
      "\n",
      "# True parameter values\n",
      "A, B, C, D = true_parameters = 0.5, 2.5, 8, 7.3\n",
      "y_true = logistic4(x_true, *true_parameters)#A, B, C, D)\n",
      "\n",
      "# Simulated measurements of data.\n",
      "y_measured = logistic4(x_measured, *true_parameters) + 0.2 * np.random.randn(len(x_measured))\n",
      "\n",
      "# Initial guess for parameters\n",
      "initial_parameters = [0, 1, 1, 1]\n",
      "\n",
      "# Fit equation using least squares optimization\n",
      "leastsq_output = leastsq(residuals, initial_parameters, args=(y_measured, x_measured))\n",
      "\n",
      "# Plot results\n",
      "plt.plot(x_true, logistic4(x_true, *leastsq_output[0]), 'r--')\n",
      "plt.plot(x_measured, y_measured, 'bo')\n",
      "plt.plot(x_true, y_true, 'g-')\n",
      "plt.title('Least squares fit to logistic equation with noisy data')\n",
      "plt.legend(['Fit', 'Data', 'True'], loc='upper left')\n",
      "\n",
      "plt.text(10, 2.5, 'Parameter   True   Estimated')\n",
      "for index, estimated_value in enumerate(leastsq_output[0]):\n",
      "    param_key = 'ABCD'[index]\n",
      "    true_value = true_parameters[index]\n",
      "    plot_text = '{:>10} {:>12.2f} {:>10.2f}'.format(param_key, true_value, estimated_value)\n",
      "    plt.text(10, 2-index*0.5, plot_text)\n",
      "\n",
      "plt.show()"
     ],
     "language": "python",
     "metadata": {},
     "outputs": []
    }
   ],
   "metadata": {}
  }
 ]
}